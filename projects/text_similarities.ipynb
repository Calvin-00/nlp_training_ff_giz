{
 "cells": [
  {
   "cell_type": "markdown",
   "source": [
    "## Text Similarities Task\n",
    "In this task, one will create a classification model that will be able to receive a text/sentence and return similar sentence.\n",
    "\n",
    "    * We will use this dataset: https://huggingface.co/datasets/sem_eval_2014_task_1 for training and evaluation. Use the hyposthesis column\n",
    "    \n",
    "    * The model will be deployed.\n",
    "\n",
    "    * You will first use traditional ML then use Language models and compare the results"
   ],
   "metadata": {}
  },
  {
   "cell_type": "code",
   "execution_count": null,
   "source": [
    "#TODO Load the dataset/s"
   ],
   "outputs": [],
   "metadata": {}
  },
  {
   "cell_type": "code",
   "execution_count": null,
   "source": [
    "#TODO Preprocess and explore  the dataset"
   ],
   "outputs": [],
   "metadata": {}
  },
  {
   "cell_type": "code",
   "execution_count": null,
   "source": [
    "#TODO Use the different feature engineering techniques - BoW, TD-IDF, Word/Sentence Embeddings"
   ],
   "outputs": [],
   "metadata": {}
  },
  {
   "cell_type": "code",
   "execution_count": null,
   "source": [
    "#TODO Train the model"
   ],
   "outputs": [],
   "metadata": {}
  },
  {
   "cell_type": "code",
   "execution_count": null,
   "source": [
    "#TODO Evaluate the model"
   ],
   "outputs": [],
   "metadata": {}
  },
  {
   "cell_type": "code",
   "execution_count": null,
   "source": [
    "#TODO Create cluster of the sentences"
   ],
   "outputs": [],
   "metadata": {}
  }
 ],
 "metadata": {
  "orig_nbformat": 4,
  "language_info": {
   "name": "python"
  }
 },
 "nbformat": 4,
 "nbformat_minor": 2
}
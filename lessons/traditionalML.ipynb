{
 "cells": [
  {
   "cell_type": "code",
   "execution_count": null,
   "source": [
    "from sklearn import svm\n",
    "from sklearn import linear_model\n",
    "from sklearn import neighbors\n",
    "from sklearn.ensemble import RandomForestClassifier\n",
    "from sklearn.externals import joblib\n",
    "from sklearn.metrics import classification_report\n",
    "import json\n",
    "\n",
    "class MLModel:\n",
    "  def __init__(self, target_model, save_path):\n",
    "    self.save_path = save_path\n",
    "    self.models = {\"ridge\":linear_model.Ridge(alpha=.5), \n",
    "            \"lasso\":linear_model.Lasso(alpha=0.1), \n",
    "            \"knn\":neighbors.KNeighborsClassifier(5), \n",
    "            \"randomforest\":RandomForestClassifier(n_estimators=10),\n",
    "            \"sgd_svm\":linear_model.SGDClassifier(max_iter=1000, tol=1e-3)} # to do exercise add unsupervised clustering models\n",
    "    \n",
    "    if target_model is not None:\n",
    "      if target_model in self.models.keys():\n",
    "        self.model = self.models[target_model]\n",
    "      else:\n",
    "        raise NotImplementedError\n",
    "    \n",
    "    self.clf = None\n",
    "  \n",
    "  def fit(self, X, y):\n",
    "    #put your code down here\n",
    "    self.clf = self.model.fit(X, y)\n",
    "\n",
    "  def save(self, mode=\"pickle\"):\n",
    "    if mode == \"pickle\":\n",
    "      if self.clf is not None:\n",
    "        joblib.dump(self.clf, self.save_path)\n",
    "      else:\n",
    "        raise ValueError(\"train before saving the classifier\")\n",
    "\n",
    "    elif mode == \"json\":\n",
    "      if self.clf is not None:\n",
    "        model_dict = {}\n",
    "        model_dict[\"clf\"] = self.clf\n",
    "        json_clf = json.dumps(model_dict, indent=4)\n",
    "        with open(self.save_path+\"/model.json\", 'w') as file:\n",
    "            file.write(json_clf)\n",
    "        file.close()\n",
    "      else:\n",
    "        raise ValueError(\"Train before saving the classifier\")\n",
    "\n",
    "    else:\n",
    "      raise NotImplementedError\n",
    "\n",
    "  def load(self, path, mode):\n",
    "    if mode == \"pickle\":\n",
    "      self.clf = joblib.load(path)\n",
    "      print(self.clf)\n",
    "    elif mode == \"json\":\n",
    "      with open(path, 'r') as file:\n",
    "          model_dict = json.load(file)\n",
    "      self.clf = model_dict[\"clf\"]\n",
    "    else:\n",
    "      raise NotImplementedError\n",
    "    return self.clf\n",
    "\n",
    "  def predict(self, X):\n",
    "    predictions = self.clf.predict(X)\n",
    "    return predictions\n",
    "\n",
    "  def evaluate(self, y_true, y_pred, target_names):\n",
    "    # put your code down here add eval\n",
    "    print(classification_report(y_true, y_pred, target_names=target_names))"
   ],
   "outputs": [],
   "metadata": {}
  },
  {
   "cell_type": "markdown",
   "source": [
    "## To Do exercises"
   ],
   "metadata": {}
  },
  {
   "cell_type": "markdown",
   "source": [
    "# Reuse the class above on transformed data in previous sections for:\n",
    "\n",
    "# 1. classification\n",
    "# 2. clustering"
   ],
   "metadata": {}
  }
 ],
 "metadata": {
  "orig_nbformat": 4,
  "language_info": {
   "name": "python"
  }
 },
 "nbformat": 4,
 "nbformat_minor": 2
}
{
 "cells": [
  {
   "cell_type": "code",
   "execution_count": null,
   "source": [
    "from google.colab import drive\n",
    "drive.mount('/content/gdrive')"
   ],
   "outputs": [],
   "metadata": {}
  },
  {
   "cell_type": "markdown",
   "source": [
    "## Preprocessing\n",
    "* Lowercase\n",
    "* Remove emojis\n",
    "* remove urls\n",
    "* remove htmls tags\n",
    "* remove puncutations\n",
    "* remove stop words\n",
    "* stem/lemment"
   ],
   "metadata": {}
  },
  {
   "cell_type": "code",
   "execution_count": null,
   "source": [
    "def preprocess(text):\n",
    "    #TODO Excercise for this lesson is to apply the above tasks. Function will receive a sentence as input and output a prepreprocessed \n",
    "    \n",
    "\n",
    "\n",
    "    return text"
   ],
   "outputs": [],
   "metadata": {}
  }
 ],
 "metadata": {
  "orig_nbformat": 4,
  "language_info": {
   "name": "python"
  }
 },
 "nbformat": 4,
 "nbformat_minor": 2
}
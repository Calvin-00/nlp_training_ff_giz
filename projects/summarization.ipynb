{
 "cells": [
  {
   "cell_type": "markdown",
   "source": [
    "## Text Summarization Task\n",
    "In this task, one will create a text summarization model that will be able to receive a document and return a sentence summarizing it.\n",
    "\n",
    "    * We will use this dataset: https://huggingface.co/datasets/cnn_dailymail for training and evaluation\n",
    "\n",
    "    * For inference, we will use this dataset - https://drive.google.com/drive/folders/1rpHOP0aIpAEQuOe9yYISSrFblDFnUMEi use train.csv or the Igihe dataset that was scrapped in Lesson 1\n",
    "\n",
    "    * The model will be deployed. Follow the fine tuning process that we used during the class exercises."
   ],
   "metadata": {}
  },
  {
   "cell_type": "code",
   "execution_count": null,
   "source": [
    "#TODO Load the dataset"
   ],
   "outputs": [],
   "metadata": {}
  },
  {
   "cell_type": "code",
   "execution_count": null,
   "source": [
    "#TODO Preprocess the data"
   ],
   "outputs": [],
   "metadata": {}
  },
  {
   "cell_type": "code",
   "execution_count": null,
   "source": [
    "#TODO Initiate the model’s tokenizer"
   ],
   "outputs": [],
   "metadata": {}
  },
  {
   "cell_type": "code",
   "execution_count": null,
   "source": [
    "#TODO Tokenize the preprocessed dataset"
   ],
   "outputs": [],
   "metadata": {}
  },
  {
   "cell_type": "code",
   "execution_count": null,
   "source": [
    "#TODO Turn the dataset into a Dataset object"
   ],
   "outputs": [],
   "metadata": {}
  },
  {
   "cell_type": "code",
   "execution_count": null,
   "source": [
    "#TODO Train the model"
   ],
   "outputs": [],
   "metadata": {}
  },
  {
   "cell_type": "code",
   "execution_count": null,
   "source": [
    "#TODO Evaluate the model"
   ],
   "outputs": [],
   "metadata": {}
  },
  {
   "cell_type": "code",
   "execution_count": null,
   "source": [
    "#TODO Test the model on the inference dataset"
   ],
   "outputs": [],
   "metadata": {}
  }
 ],
 "metadata": {
  "orig_nbformat": 4,
  "language_info": {
   "name": "python"
  }
 },
 "nbformat": 4,
 "nbformat_minor": 2
}
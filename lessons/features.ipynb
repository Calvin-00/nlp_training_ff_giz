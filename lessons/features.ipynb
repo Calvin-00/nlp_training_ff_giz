{
 "cells": [
  {
   "cell_type": "code",
   "execution_count": null,
   "source": [
    "from google.colab import drive\n",
    "drive.mount('/content/gdrive')"
   ],
   "outputs": [],
   "metadata": {}
  },
  {
   "cell_type": "markdown",
   "source": [
    "## Exercise: Train a word embedding\n",
    "* Data you want to use - https://drive.google.com/drive/folders/1rpHOP0aIpAEQuOe9yYISSrFblDFnUMEi   (Use train.csv)\n",
    "* Preprocess the data\n",
    "* Create word embeddings\n",
    "    * Gensim - https://radimrehurek.com/gensim/auto_examples/tutorials/run_word2vec.html#training-your-own-model\n",
    "    * Fasttext - https://fasttext.cc/docs/en/unsupervised-tutorial.html\n",
    "\n",
    "* save the embeddings\n",
    "* Pick a word a look at similar words"
   ],
   "metadata": {}
  }
 ],
 "metadata": {
  "orig_nbformat": 4,
  "language_info": {
   "name": "python"
  }
 },
 "nbformat": 4,
 "nbformat_minor": 2
}
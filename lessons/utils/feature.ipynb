{
 "cells": [
  {
   "cell_type": "code",
   "execution_count": 1,
   "source": [
    "from featurization import Bow,TDIDF"
   ],
   "outputs": [],
   "metadata": {}
  },
  {
   "cell_type": "code",
   "execution_count": 11,
   "source": [
    "bow = Bow()\n",
    "bow.fit(['this is a list of sentences', 'second sentence in list of sentences', 'a word for complexity'])\n",
    "print(bow.transform(\"this is a sentence with two words sentence in\"))\n",
    "print(bow.all_word)"
   ],
   "outputs": [
    {
     "output_type": "stream",
     "name": "stdout",
     "text": [
      "[2. 1. 0. 0. 0. 1. 0. 0. 0. 1. 1. 0.]\n",
      "{'sentence', 'this', 'sentences', 'complexity', 'of', 'is', 'word', 'for', 'second', 'in', 'a', 'list'}\n"
     ]
    }
   ],
   "metadata": {}
  },
  {
   "cell_type": "code",
   "execution_count": 2,
   "source": [
    "tdidf = TDIDF()\n",
    "tdidf.fit(['this is a list of sentences', 'second sentence in list of sentences', 'a word for complexity'])\n",
    "print(tdidf.transform(\"this is a sentence with two words sentence in\"))\n",
    "\n"
   ],
   "outputs": [
    {
     "output_type": "stream",
     "name": "stdout",
     "text": [
      "{'this': 0.1111111111111111, 'is': 0.1111111111111111, 'a': 0.1111111111111111, 'sentence': 0.2222222222222222, 'with': 0.1111111111111111, 'two': 0.1111111111111111, 'words': 0.1111111111111111, 'in': 0.1111111111111111}\n",
      "[0.07701635 0.07701635 0.03196467 0.         0.         0.\n",
      " 0.         0.15403271 0.07701635 0.         0.         0.        ]\n"
     ]
    }
   ],
   "metadata": {}
  },
  {
   "cell_type": "code",
   "execution_count": null,
   "source": [],
   "outputs": [],
   "metadata": {}
  }
 ],
 "metadata": {
  "orig_nbformat": 4,
  "language_info": {
   "name": "python",
   "version": "3.8.5",
   "mimetype": "text/x-python",
   "codemirror_mode": {
    "name": "ipython",
    "version": 3
   },
   "pygments_lexer": "ipython3",
   "nbconvert_exporter": "python",
   "file_extension": ".py"
  },
  "kernelspec": {
   "name": "python3",
   "display_name": "Python 3.8.5 64-bit ('base': conda)"
  },
  "interpreter": {
   "hash": "8006839468baa8b4aaf24751e15b7e19152492e5a770703664bc42faa7cb06c8"
  }
 },
 "nbformat": 4,
 "nbformat_minor": 2
}
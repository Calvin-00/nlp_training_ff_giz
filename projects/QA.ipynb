{
 "cells": [
  {
   "cell_type": "markdown",
   "source": [
    "## Qustion and Answering Task\n",
    "In this task, one will create a QA model that will be able to receive questions and give answers.\n",
    "\n",
    "    * We will use this dataset: https://huggingface.co/datasets/conv_questions for training and evaluation\n",
    "    \n",
    "    * The model will be deployed. Follow the fine tuning process that we used during the class exercises.\n",
    "\n"
   ],
   "metadata": {}
  },
  {
   "cell_type": "code",
   "execution_count": null,
   "source": [
    "#TODO Load the dataset"
   ],
   "outputs": [],
   "metadata": {}
  },
  {
   "cell_type": "code",
   "execution_count": null,
   "source": [
    "#TODO Preprocess and explore the data"
   ],
   "outputs": [],
   "metadata": {}
  },
  {
   "cell_type": "code",
   "execution_count": null,
   "source": [
    "#TODO Initiate the model’s tokenizer"
   ],
   "outputs": [],
   "metadata": {}
  },
  {
   "cell_type": "code",
   "execution_count": null,
   "source": [
    "#TODO Tokenize the preprocessed dataset"
   ],
   "outputs": [],
   "metadata": {}
  },
  {
   "cell_type": "code",
   "execution_count": null,
   "source": [
    "#TODO Turn the dataset into a Dataset object"
   ],
   "outputs": [],
   "metadata": {}
  },
  {
   "cell_type": "code",
   "execution_count": null,
   "source": [
    "#TODO Train the model"
   ],
   "outputs": [],
   "metadata": {}
  },
  {
   "cell_type": "code",
   "execution_count": null,
   "source": [
    "#TODO Evaluate the model"
   ],
   "outputs": [],
   "metadata": {}
  }
 ],
 "metadata": {
  "orig_nbformat": 4,
  "language_info": {
   "name": "python",
   "version": "3.6.12"
  },
  "kernelspec": {
   "name": "python3",
   "display_name": "Python 3.6.12 64-bit ('mahewa': conda)"
  },
  "interpreter": {
   "hash": "e08f40a4b6bcce29bd80355b0351d7025af844b0d0a0900017f9c985ce022406"
  }
 },
 "nbformat": 4,
 "nbformat_minor": 2
}
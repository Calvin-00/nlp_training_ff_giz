{
 "cells": [
  {
   "cell_type": "markdown",
   "source": [
    "## Sentiment Analysis Task\n",
    "In this task, one will create a classification model that will be able to receive a sentence and give the sentiment of the sentence.\n",
    "\n",
    "    * We will use this dataset: https://huggingface.co/datasets/sentiment140 for training and evaluation\n",
    "\n",
    "    * We will use tweets from lesson 1 for inference\n",
    "    \n",
    "    * The model will be deployed. Follow the fine tuning process that we used during the class exercises when using LM\n",
    "\n",
    "    * You will first use traditional ML then use Language models and compare the results"
   ],
   "metadata": {}
  },
  {
   "cell_type": "code",
   "execution_count": null,
   "source": [
    "#TODO Load the dataset"
   ],
   "outputs": [],
   "metadata": {}
  },
  {
   "cell_type": "code",
   "execution_count": null,
   "source": [
    "#TODO Preprocess and explore  the data"
   ],
   "outputs": [],
   "metadata": {}
  },
  {
   "cell_type": "code",
   "execution_count": null,
   "source": [
    "#TODO Use the different feature engineering techniques - BoW, TD-IDF, Word Embeddings"
   ],
   "outputs": [],
   "metadata": {}
  },
  {
   "cell_type": "code",
   "execution_count": null,
   "source": [
    "#TODO Train the model"
   ],
   "outputs": [],
   "metadata": {}
  },
  {
   "cell_type": "code",
   "execution_count": null,
   "source": [
    "#TODO Evaluate the model"
   ],
   "outputs": [],
   "metadata": {}
  },
  {
   "cell_type": "code",
   "execution_count": null,
   "source": [
    "#TODO Test the model on the inference dataset"
   ],
   "outputs": [],
   "metadata": {}
  }
 ],
 "metadata": {
  "orig_nbformat": 4,
  "language_info": {
   "name": "python"
  }
 },
 "nbformat": 4,
 "nbformat_minor": 2
}